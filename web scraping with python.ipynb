{
 "cells": [
  {
   "cell_type": "markdown",
   "metadata": {},
   "source": [
    "**Scraping wikipedia.com and imdb.com **\n",
    "\n",
    "objective: To get celebrity's birthdays for let's say a virtual blog which we want to build.\n",
    "\n",
    "output: a python dictionary which has celebrity name as key and their birthdays as value.(i.e {'Tom Cruise': } \n",
    "\n",
    "steps:\n",
    "1 - we figureout where we can find birhdates in wikipedia page.\n",
    "\n",
    "2 - learn url structure\n",
    "\n",
    "3 - start coding."
   ]
  },
  {
   "cell_type": "code",
   "execution_count": null,
   "metadata": {},
   "outputs": [],
   "source": [
    "from bs4 import BeautifulSoup as soup"
   ]
  },
  {
   "cell_type": "code",
   "execution_count": 2,
   "metadata": {},
   "outputs": [],
   "source": [
    "from urllib.request import urlopen as uopen"
   ]
  },
  {
   "cell_type": "code",
   "execution_count": 3,
   "metadata": {},
   "outputs": [],
   "source": [
    "url = 'https://en.wikipedia.org/wiki/Katrina_Kaif'\n",
    "\n",
    "client = uopen(url)\n",
    "page_html = client.read()\n",
    "client.close()\n",
    "\n",
    "psoup = soup(page_html, 'html.parser')"
   ]
  },
  {
   "cell_type": "code",
   "execution_count": 10,
   "metadata": {},
   "outputs": [
    {
     "data": {
      "text/plain": [
       "[<table class=\"infobox biography vcard\" style=\"width:22em\"><tbody><tr><th colspan=\"2\" style=\"text-align:center;font-size:125%;font-weight:bold\"><span class=\"fn\">Katrina Kaif</span></th></tr><tr><td colspan=\"2\" style=\"text-align:center\">\n",
       " <a class=\"image\" href=\"/wiki/File:Katrina_Kaif_in_2018.jpg\" title=\"The image features Katrina Kaif in a blue and white sari\"><img alt=\"The image features Katrina Kaif in a blue and white sari\" data-file-height=\"781\" data-file-width=\"548\" height=\"314\" src=\"//upload.wikimedia.org/wikipedia/commons/thumb/6/65/Katrina_Kaif_in_2018.jpg/220px-Katrina_Kaif_in_2018.jpg\" srcset=\"//upload.wikimedia.org/wikipedia/commons/thumb/6/65/Katrina_Kaif_in_2018.jpg/330px-Katrina_Kaif_in_2018.jpg 1.5x, //upload.wikimedia.org/wikipedia/commons/thumb/6/65/Katrina_Kaif_in_2018.jpg/440px-Katrina_Kaif_in_2018.jpg 2x\" width=\"220\"/></a><div>Kaif at an event for <a href=\"/wiki/Kalyan_Jewellers\" title=\"Kalyan Jewellers\">Kalyan Jewellers</a> in 2018</div></td></tr><tr><th scope=\"row\">Born</th><td>\n",
       " <span class=\"nickname\">Katrina Turquotte</span><br/><span style=\"display:none\"> (<span class=\"bday\">1983-07-16</span>) </span>16 July 1983<span class=\"noprint ForceAgeToShow\"> (age 35)</span><br/><span class=\"birthplace\"><a href=\"/wiki/Hong_Kong\" title=\"Hong Kong\">Hong Kong</a></span></td></tr><tr><th scope=\"row\">Residence</th><td class=\"label\">\n",
       " Mumbai, India</td></tr><tr><th scope=\"row\">Citizenship</th><td class=\"category\">\n",
       " United Kingdom</td></tr><tr><th scope=\"row\">Occupation</th><td class=\"role\">\n",
       " Actress, model</td></tr><tr><th scope=\"row\">Years active</th><td>\n",
       " 2003–present</td></tr></tbody></table>]"
      ]
     },
     "execution_count": 10,
     "metadata": {},
     "output_type": "execute_result"
    }
   ],
   "source": [
    "table = psoup.findAll('table', {'class':'infobox biography vcard'})\n",
    "table"
   ]
  },
  {
   "cell_type": "code",
   "execution_count": 12,
   "metadata": {},
   "outputs": [
    {
     "data": {
      "text/plain": [
       "[<span class=\"bday\">1983-07-16</span>]"
      ]
     },
     "execution_count": 12,
     "metadata": {},
     "output_type": "execute_result"
    }
   ],
   "source": [
    "bday = psoup.findAll('span',{'class':'bday'})\n",
    "bday"
   ]
  },
  {
   "cell_type": "code",
   "execution_count": 6,
   "metadata": {},
   "outputs": [
    {
     "data": {
      "text/plain": [
       "'1983-07-16'"
      ]
     },
     "execution_count": 6,
     "metadata": {},
     "output_type": "execute_result"
    }
   ],
   "source": [
    "bday[0].text"
   ]
  },
  {
   "cell_type": "markdown",
   "metadata": {},
   "source": [
    "Now we know how to get a birthday from wikipedia page of a celebrity.\n",
    "\n",
    "figuring out url:\n",
    "we have to change last part of the url which contains name of the celebrity everything else remains same\n",
    "\n",
    "e.g https://en.wikipedia.org/wiki/firstname_lastname\n",
    "\n",
    "for this we will get celebritys names from imdb.com."
   ]
  },
  {
   "cell_type": "code",
   "execution_count": 7,
   "metadata": {},
   "outputs": [],
   "source": [
    "imdb = 'https://www.imdb.com/list/ls025928763/'\n",
    "\n",
    "iclient = uopen(imdb)\n",
    "imdb_html = iclient.read()\n",
    "client.close()\n",
    "\n",
    "isoup = soup(imdb_html, 'html.parser')\n",
    "h3 = isoup.findAll('h3',{'class':'lister-item-header'})"
   ]
  },
  {
   "cell_type": "code",
   "execution_count": 13,
   "metadata": {},
   "outputs": [],
   "source": [
    "raw_name = []\n",
    "for i in range(90):\n",
    "    raw_name.append(h3[i].a.text)\n",
    "    #print(h3[i].a.text)"
   ]
  },
  {
   "cell_type": "code",
   "execution_count": 16,
   "metadata": {},
   "outputs": [
    {
     "data": {
      "text/plain": [
       "(' Nargis\\n', ' Madhubala\\n')"
      ]
     },
     "execution_count": 16,
     "metadata": {},
     "output_type": "execute_result"
    }
   ],
   "source": [
    "# len(name)\n",
    "name[0]"
   ]
  },
  {
   "cell_type": "code",
   "execution_count": 23,
   "metadata": {},
   "outputs": [
    {
     "data": {
      "text/plain": [
       "'Madhubala'"
      ]
     },
     "execution_count": 23,
     "metadata": {},
     "output_type": "execute_result"
    }
   ],
   "source": [
    "clear_name = []\n",
    "for i in name:\n",
    "    temp = i.lstrip(' ')\n",
    "    clear_name.append(temp.replace('\\n',''))\n",
    "\n",
    "clear_name[1]    "
   ]
  },
  {
   "cell_type": "code",
   "execution_count": 27,
   "metadata": {},
   "outputs": [
    {
     "data": {
      "text/plain": [
       "'Nargis'"
      ]
     },
     "execution_count": 27,
     "metadata": {},
     "output_type": "execute_result"
    }
   ],
   "source": [
    "# We have to make name ready to put in wikipedia url\n",
    "# i.e with '_' between first and last name\n",
    "\n",
    "names = []\n",
    "for i in clear_name:\n",
    "    names.append(i.replace(' ','_'))\n",
    "names[0]"
   ]
  },
  {
   "cell_type": "code",
   "execution_count": 28,
   "metadata": {},
   "outputs": [],
   "source": [
    "#putting it all togather in a loop\n",
    "birthdates = {}\n",
    "count = 0\n",
    "for i in names:\n",
    "    url = 'https://en.wikipedia.org/wiki/'+i\n",
    "    client = uopen(url)\n",
    "    page_html = client.read()\n",
    "    client.close()\n",
    "    psoup = soup(page_html, 'html.parser')\n",
    "    table = psoup.findAll('table', {'class':'infobox biography vcard'})\n",
    "    bday = psoup.findAll('span',{'class':'bday'})\n",
    "    try:\n",
    "        birthdates[i] = bday[0].text\n",
    "    except Exception:\n",
    "        count += 1\n",
    "        birthdates[i] = None\n",
    "        "
   ]
  },
  {
   "cell_type": "code",
   "execution_count": 30,
   "metadata": {},
   "outputs": [
    {
     "data": {
      "text/plain": [
       "({'Aishwarya_Rai_Bachchan': '1973-11-01',\n",
       "  'Alia_Bhatt': '1993-03-15',\n",
       "  'Ameesha_Patel': None,\n",
       "  'Anushka_Sharma': '1988-05-01',\n",
       "  'Asha_Parekh': '1942-10-02',\n",
       "  'Babita_Kapoor': None,\n",
       "  'Bhanumathi_Ramakrishna': '1925-09-07',\n",
       "  'Bipasha_Basu': '1979-01-07',\n",
       "  'Deepika_Padukone': '1986-01-05',\n",
       "  'Deepti_Naval': '1952-02-03',\n",
       "  'Dia_Mirza': '1981-12-09',\n",
       "  'Dimple_Kapadia': '1957-06-08',\n",
       "  'Divya_Bharti': '1974-02-25',\n",
       "  'Farida_Jalal': '1949-03-14',\n",
       "  'Geeta_Bali': None,\n",
       "  'Helen': None,\n",
       "  'Hema_Malini': '1948-10-16',\n",
       "  'Jacqueline_Fernandez': '1985-08-11',\n",
       "  'Jaya_Bhaduri': None,\n",
       "  'Jaya_Prada': '1962-04-03',\n",
       "  'Juhi_Chawla': '1967-11-13',\n",
       "  'Kajol': '1974-08-05',\n",
       "  'Kamini_Kaushal': '1927-02-24',\n",
       "  'Kangana_Ranaut': '1987-03-23',\n",
       "  'Kareena_Kapoor': '1980-09-21',\n",
       "  'Karisma_Kapoor': '1974-06-25',\n",
       "  'Katrina_Kaif': '1983-07-16',\n",
       "  'Kiron_Kher': '1955-06-14',\n",
       "  'Lara_Dutta': '1978-04-16',\n",
       "  'Leena_Chandavarkar': '1950-08-29',\n",
       "  'Madhubala': '1933-02-14',\n",
       "  'Madhuri_Dixit': '1967-05-15',\n",
       "  'Mahima_Chaudhry': '1973-11-13',\n",
       "  'Mala_Sinha': None,\n",
       "  'Mamta_Kulkarni': '1972-04-20',\n",
       "  'Mandakini': None,\n",
       "  'Manisha_Koirala': '1970-08-16',\n",
       "  'Meena_Kumari': '1933-08-01',\n",
       "  'Meenakshi_Sheshadri': '1963-11-16',\n",
       "  'Moushumi_Chatterjee': None,\n",
       "  'Mumtaz': None,\n",
       "  'Nalini_Jaywant': '1926-02-18',\n",
       "  'Nanda': None,\n",
       "  'Nargis': '1929-06-01',\n",
       "  'Neelam_Kothari': '1968-11-09',\n",
       "  'Neetu_Singh': '1958-07-08',\n",
       "  'Nimmi': '1933-02-18',\n",
       "  'Nutan': '1936-06-04',\n",
       "  'Padmini': None,\n",
       "  'Padmini_Kolhapure': '1965-11-01',\n",
       "  'Parineeti_Chopra': '1988-10-22',\n",
       "  'Parveen_Babi': '1949-04-04',\n",
       "  'Pooja_Bhatt': '1972-02-24',\n",
       "  'Poonam_Dhillon': '1962-04-18',\n",
       "  'Preity_Zinta': '1975-01-31',\n",
       "  'Priyanka_Chopra': '1982-07-18',\n",
       "  'Rakhee_Gulzar': '1947-08-15',\n",
       "  'Rambha': None,\n",
       "  'Rani_Mukerji': '1978-03-21',\n",
       "  'Ratna_Pathak_Shah': None,\n",
       "  'Raveena_Tandon': '1974-10-26',\n",
       "  'Reema_Lagoo': '1958-06-21',\n",
       "  'Reena_Roy': '1957-01-07',\n",
       "  'Rekha': '1954-10-10',\n",
       "  'Sadhana': None,\n",
       "  'Saira_Banu': '1944-08-23',\n",
       "  'Sangeeta_Bijlani': '1965-07-09',\n",
       "  'Sarika': '1960-12-05',\n",
       "  'Saroja_Devi_B.': '1938-01-07',\n",
       "  'Savitri': None,\n",
       "  'Shabana_Azmi': '1950-09-18',\n",
       "  'Sharmila_Tagore': '1944-12-08',\n",
       "  'Shilpa_Shetty': '1975-06-08',\n",
       "  'Shraddha_Kapoor': '1987-03-03',\n",
       "  'Smita_Patil': '1955-10-17',\n",
       "  'Sonakshi_Sinha': '1987-06-02',\n",
       "  'Sonali_Bendre': '1975-01-01',\n",
       "  'Sonam_Kapoor': '1985-06-09',\n",
       "  'Sridevi': '1963-08-13',\n",
       "  'Suchitra_Sen': '1931-04-06',\n",
       "  'Suraiya': '1929-06-15',\n",
       "  'Sushmita_Sen': '1975-11-19',\n",
       "  'Tabu': None,\n",
       "  'Tanuja': '1943-09-23',\n",
       "  'Twinkle_Khanna': '1974-12-29',\n",
       "  'Vidya_Balan': '1979-01-01',\n",
       "  'Vidya_Sinha': '1947-11-15',\n",
       "  'Vyjayanthimala': '1936-08-13',\n",
       "  'Waheeda_Rehman': '1938-02-03',\n",
       "  'Zeenat_Aman': '1951-11-19'},\n",
       " 90)"
      ]
     },
     "execution_count": 30,
     "metadata": {},
     "output_type": "execute_result"
    }
   ],
   "source": [
    "birthdates, len(birthdates)"
   ]
  }
 ],
 "metadata": {
  "kernelspec": {
   "display_name": "Python 3",
   "language": "python",
   "name": "python3"
  },
  "language_info": {
   "codemirror_mode": {
    "name": "ipython",
    "version": 3
   },
   "file_extension": ".py",
   "mimetype": "text/x-python",
   "name": "python",
   "nbconvert_exporter": "python",
   "pygments_lexer": "ipython3",
   "version": "3.6.4"
  }
 },
 "nbformat": 4,
 "nbformat_minor": 2
}
